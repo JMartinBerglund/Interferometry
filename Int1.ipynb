{
 "cells": [
  {
   "cell_type": "code",
   "execution_count": 1,
   "id": "d6b7ec75",
   "metadata": {},
   "outputs": [],
   "source": [
    "import os \n",
    "import sys\n",
    "sys.path.append(\"/home/martin/Work/Qutip/modules\")\n",
    "import math\n",
    "import numpy as np\n",
    "import Interferometry as In\n",
    "import Utility as Ut\n",
    "import parameters as pm\n",
    "from qutip import Qobj, basis, sigmax, Options"
   ]
  },
  {
   "cell_type": "markdown",
   "id": "14713460",
   "metadata": {},
   "source": [
    "# Setting up an impact approximation interferometer"
   ]
  },
  {
   "cell_type": "code",
   "execution_count": 2,
   "id": "19e27f9b",
   "metadata": {},
   "outputs": [],
   "source": [
    "Ps      = [1.4, 1.4]\n",
    "ts      = np.linspace(0.,50.,100) #[0., 1., 2., 3., 4., 5., 6., 7., 8., 9., 10.]\n",
    "B       = 2.\n",
    "dim     = 10\n",
    "istate  = Qobj(basis(dim,0))\n",
    "mstate  = 0\n",
    "Name    = 'First interferometer'\n",
    "Pulses  = Ut.Pulses(Ps, ts)\n",
    "IntP    = In.ImpactInterferometry(Ps, ts, B, istate, mstate, dim, Name)"
   ]
  },
  {
   "cell_type": "code",
   "execution_count": 3,
   "id": "ca8e578f",
   "metadata": {},
   "outputs": [
    {
     "name": "stdout",
     "output_type": "stream",
     "text": [
      "[1.4, 1.4]\n",
      "[ 0.          0.50505051  1.01010101  1.51515152  2.02020202  2.52525253\n",
      "  3.03030303  3.53535354  4.04040404  4.54545455  5.05050505  5.55555556\n",
      "  6.06060606  6.56565657  7.07070707  7.57575758  8.08080808  8.58585859\n",
      "  9.09090909  9.5959596  10.1010101  10.60606061 11.11111111 11.61616162\n",
      " 12.12121212 12.62626263 13.13131313 13.63636364 14.14141414 14.64646465\n",
      " 15.15151515 15.65656566 16.16161616 16.66666667 17.17171717 17.67676768\n",
      " 18.18181818 18.68686869 19.19191919 19.6969697  20.2020202  20.70707071\n",
      " 21.21212121 21.71717172 22.22222222 22.72727273 23.23232323 23.73737374\n",
      " 24.24242424 24.74747475 25.25252525 25.75757576 26.26262626 26.76767677\n",
      " 27.27272727 27.77777778 28.28282828 28.78787879 29.29292929 29.7979798\n",
      " 30.3030303  30.80808081 31.31313131 31.81818182 32.32323232 32.82828283\n",
      " 33.33333333 33.83838384 34.34343434 34.84848485 35.35353535 35.85858586\n",
      " 36.36363636 36.86868687 37.37373737 37.87878788 38.38383838 38.88888889\n",
      " 39.39393939 39.8989899  40.4040404  40.90909091 41.41414141 41.91919192\n",
      " 42.42424242 42.92929293 43.43434343 43.93939394 44.44444444 44.94949495\n",
      " 45.45454545 45.95959596 46.46464646 46.96969697 47.47474747 47.97979798\n",
      " 48.48484848 48.98989899 49.49494949 50.        ]\n"
     ]
    }
   ],
   "source": [
    "print(Pulses.P)\n",
    "print(Pulses.t)"
   ]
  },
  {
   "cell_type": "code",
   "execution_count": null,
   "id": "88cf2521",
   "metadata": {},
   "outputs": [],
   "source": []
  },
  {
   "cell_type": "code",
   "execution_count": 4,
   "id": "b9cb5a88",
   "metadata": {},
   "outputs": [
    {
     "name": "stdout",
     "output_type": "stream",
     "text": [
      "None\n"
     ]
    }
   ],
   "source": [
    "print(IntP.U)"
   ]
  },
  {
   "cell_type": "code",
   "execution_count": 5,
   "id": "56a7defa",
   "metadata": {},
   "outputs": [],
   "source": [
    "IntP.run_interferometry()"
   ]
  },
  {
   "cell_type": "code",
   "execution_count": null,
   "id": "a2ef4736",
   "metadata": {},
   "outputs": [],
   "source": []
  },
  {
   "cell_type": "code",
   "execution_count": 6,
   "id": "f4ad72b2",
   "metadata": {},
   "outputs": [],
   "source": [
    "%matplotlib inline\n",
    "import matplotlib.pyplot as plt\n",
    "plt.style.use('seaborn-whitegrid')\n",
    "import numpy as np\n"
   ]
  },
  {
   "cell_type": "code",
   "execution_count": 7,
   "id": "b3025c50",
   "metadata": {},
   "outputs": [
    {
     "data": {
      "image/png": "[encoded data removed]",
      "text/plain": [
       "<Figure size 432x288 with 1 Axes>"
      ]
     },
     "metadata": {},
     "output_type": "display_data"
    }
   ],
   "source": [
    "fig = plt.figure()\n",
    "ax = plt.axes()"
   ]
  },
  {
   "cell_type": "code",
   "execution_count": 8,
   "id": "88cb1d7d",
   "metadata": {},
   "outputs": [
    {
     "data": {
      "text/plain": [
       "[<matplotlib.lines.Line2D at 0x7f9dff0ca6b0>]"
      ]
     },
     "execution_count": 8,
     "metadata": {},
     "output_type": "execute_result"
    },
    {
     "data": {
      "image/png": "[encoded data removed]",
      "text/plain": [
       "<Figure size 432x288 with 1 Axes>"
      ]
     },
     "metadata": {},
     "output_type": "display_data"
    }
   ],
   "source": [
    "plt.plot(IntP.ts, IntP.inter)"
   ]
  },
  {
   "cell_type": "code",
   "execution_count": 9,
   "id": "a2b89c13",
   "metadata": {},
   "outputs": [
    {
     "name": "stdout",
     "output_type": "stream",
     "text": [
      "Quantum object: dims = [[2], [2]], shape = (2, 2), type = oper, isherm = True\n",
      "Qobj data =\n",
      "[[0.         0.57735027]\n",
      " [0.57735027 0.        ]]\n"
     ]
    }
   ],
   "source": [
    "sx = math.sqrt(3.)**(-1.)*sigmax()\n",
    "print(sx)"
   ]
  },
  {
   "cell_type": "code",
   "execution_count": 10,
   "id": "5c070566",
   "metadata": {},
   "outputs": [
    {
     "name": "stdout",
     "output_type": "stream",
     "text": [
      "Quantum object: dims = [[2], [2]], shape = (2, 2), type = oper, isherm = True\n",
      "Qobj data =\n",
      "[[0.33333333 0.        ]\n",
      " [0.         0.33333333]]\n"
     ]
    }
   ],
   "source": [
    "print(sx*sx)"
   ]
  },
  {
   "cell_type": "markdown",
   "id": "fbba5d68",
   "metadata": {},
   "source": [
    "# Setting up the full pulse interferometer"
   ]
  },
  {
   "cell_type": "code",
   "execution_count": 11,
   "id": "b88c1699",
   "metadata": {},
   "outputs": [
    {
     "name": "stdout",
     "output_type": "stream",
     "text": [
      "19.777907448044353\n",
      "sigma: 1755.606467136925 (au)\n",
      "Trot: 34722.22222222222 (au)\n",
      "Tgrid window: 168539.24526995848 Twind/Trot: 4.853930263774805 Twind/sigma: 96.0005835161996 Twind/tau_max: 1.2195804682851268\n",
      "Time delay 138194.44444444444\n",
      "Time resolution 0.09609668019639613\n",
      "P = 1.89 (au)\n",
      "I0 = 0.0010270808526678915 (au)\n",
      "P: 1.8900000000000003\n",
      "Checking P = 1.8900000000000003 (au)\n",
      "Checking P = 1.8900000000000001 (au)\n"
     ]
    }
   ],
   "source": [
    "\n",
    "FWHM = 100. # (fs)\n",
    "sigma = Ut.sigmaFromFWHM(FWHM)\n",
    "B = 2.88*10**(-5.)\n",
    "Trot = B**(-1.)\n",
    "time   = np.linspace(-7.*sigma, 4.5*Trot, 1000)\n",
    "Da = 9.12\n",
    "\n",
    "ltau = 200\n",
    "tau = np.zeros(ltau)\n",
    "for i in range(ltau):\n",
    "    tau[i] = float(i)/50.*Trot\n",
    "Twind = time[-1] - time[0]\n",
    "\n",
    "P = 1.89\n",
    "I0 = Ut.getI0(P, sigma, Da)\n",
    "Pparam = {'I01': I0, 'I02': I0, 'sigma': sigma, 't0': 0., 'tau': tau}\n",
    "Mparam = {'B': B, 'Da': Da}\n",
    "Name   = 'Second interferometer'\n",
    "\n",
    "\n",
    "print(Trot/Pparam['sigma'])\n",
    "print('sigma:', sigma, '(au)')\n",
    "print('Trot:',Trot,'(au)')\n",
    "\n",
    "\n",
    "print(\"Tgrid window:\", Twind, \"Twind/Trot:\", Twind/Trot, \"Twind/sigma:\", Twind/sigma, \"Twind/tau_max:\", Twind/tau[-1])\n",
    "print(\"Time delay\", tau[-1])\n",
    "print(\"Time resolution\", (time[1] - time[0])/sigma)\n",
    "\n",
    "print('P =',P, '(au)')\n",
    "print('I0 =',I0, '(au)')\n",
    "print('Checking P =', Ut.getP(Da, I0 ,sigma), '(au)')\n",
    "print('Checking P =', Ut.getP_int(Da, I0 , 0., sigma), '(au)')\n"
   ]
  },
  {
   "cell_type": "code",
   "execution_count": 12,
   "id": "8dc77fc4",
   "metadata": {},
   "outputs": [],
   "source": [
    "IntPu    = In.PulsesInterferometry(Pparam, time, Mparam, istate, mstate, dim, Name)"
   ]
  },
  {
   "cell_type": "code",
   "execution_count": 13,
   "id": "d7074db6",
   "metadata": {},
   "outputs": [
    {
     "name": "stdout",
     "output_type": "stream",
     "text": [
      "True\n"
     ]
    }
   ],
   "source": [
    "options=Options(nsteps=3000, store_final_state=True)\n",
    "print(options.store_final_state)"
   ]
  },
  {
   "cell_type": "code",
   "execution_count": 14,
   "id": "bfc911de",
   "metadata": {},
   "outputs": [],
   "source": [
    "IntPu.run_interferometry(options)"
   ]
  },
  {
   "cell_type": "code",
   "execution_count": 15,
   "id": "ae95ce91",
   "metadata": {},
   "outputs": [
    {
     "name": "stdout",
     "output_type": "stream",
     "text": [
      "[0.22048293 0.22076985 0.22179264 0.22401563 0.2281477  0.23506376\n",
      " 0.24571751 0.26104637 0.28184147 0.30861994 0.34150167 0.380131\n",
      " 0.42365346 0.47086475 0.52031008 0.57044768 0.61980529 0.66708901\n",
      " 0.71126455 0.75162058 0.78781562 0.81989047 0.84821764 0.87337884\n",
      " 0.89598612 0.91647772 0.93496182 0.95115279 0.96440585 0.97382942\n",
      " 0.9784295  0.97724542 0.96946064 0.9544985  0.93211223 0.90246042\n",
      " 0.86618776 0.82438913 0.77852896 0.73026845 0.68124856 0.63288881\n",
      " 0.5862549  0.54201558 0.50047835 0.4616701  0.42543136 0.39150978\n",
      " 0.35965567 0.32972372 0.30177799 0.27617063 0.25357413 0.23492754\n",
      " 0.22129706 0.21369816 0.2129232  0.21940188 0.23317581 0.25387818\n",
      " 0.28078839 0.31290489 0.34902951 0.38787568 0.42820531 0.46897698\n",
      " 0.50947876 0.54939486 0.5887688  0.62788739 0.66711026 0.70669758\n",
      " 0.74668186 0.78680259 0.8264936  0.8649004  0.90091506 0.93323539\n",
      " 0.96046373 0.98125411 0.9944987  0.99950879 0.99613321 0.98477994\n",
      " 0.9663308  0.94197572 0.9130262  0.88075316 0.84627174 0.81046986\n",
      " 0.77396541 0.73708178 0.69984603 0.66202933 0.62325234 0.58315446\n",
      " 0.54157488 0.49869284 0.45509545 0.41174863 0.36988864 0.33087607\n",
      " 0.29602557 0.26654    0.24335919 0.22710513 0.21802001 0.21593571\n",
      " 0.22029902 0.23027036 0.24488329 0.26322162 0.28457731 0.30853952\n",
      " 0.33499854 0.36408059 0.39604909 0.43120162 0.46977316 0.51184224\n",
      " 0.55723655 0.60543906 0.65551736 0.70619061 0.75585318 0.80279816\n",
      " 0.84544189 0.88248092 0.91303961 0.9367043  0.9534898  0.96376625\n",
      " 0.96817276 0.96752748 0.96272514 0.95461004 0.94382984 0.93070556\n",
      " 0.91516857 0.89679222 0.87491681 0.84884127 0.81802105 0.78222007\n",
      " 0.74158849 0.69667047 0.64836718 0.59787148 0.54662225 0.49617908\n",
      " 0.44809923 0.40377503 0.36427661 0.33024317 0.30185548 0.27890491\n",
      " 0.26093513 0.24740635 0.23783709 0.23189996 0.22947221 0.23065351\n",
      " 0.23575952 0.24528904 0.25985166 0.28004207 0.30628299 0.33866843\n",
      " 0.37685364 0.42002786 0.46699841 0.51632044 0.56645546 0.61592244\n",
      " 0.66341092 0.70786387 0.74854199 0.78507266 0.81746669 0.84607509\n",
      " 0.87147016 0.89426626 0.91492003 0.93356978 0.94996193 0.96347777\n",
      " 0.97324064 0.97825959 0.97756694 0.97033117 0.9559528  0.93415522\n",
      " 0.9050682  0.86929029 0.82788287 0.78228702 0.73415627 0.68514144\n",
      " 0.63668559 0.58988456]\n"
     ]
    }
   ],
   "source": [
    "print(IntPu.inter)"
   ]
  },
  {
   "cell_type": "code",
   "execution_count": 16,
   "id": "864f528d",
   "metadata": {},
   "outputs": [],
   "source": [
    "p = np.zeros(len(time))\n",
    "tps = np.zeros(len(time))\n",
    "for i in range(len(time)):\n",
    "    tps[i] = time[i] / pm.fs2au / 1000.\n",
    "    p[i] = Ut.double_Gauss(time[i], Pparam['t0'], tau[-1], Pparam['I01'], Pparam['I02'], Pparam['sigma'], Pparam['sigma'])"
   ]
  },
  {
   "cell_type": "code",
   "execution_count": 17,
   "id": "3348dd43",
   "metadata": {},
   "outputs": [
    {
     "data": {
      "image/png": "[encoded data removed]",
      "text/plain": [
       "<Figure size 432x288 with 1 Axes>"
      ]
     },
     "metadata": {},
     "output_type": "display_data"
    }
   ],
   "source": [
    "fig = plt.figure()\n",
    "ax = plt.axes()"
   ]
  },
  {
   "cell_type": "code",
   "execution_count": 18,
   "id": "8b372461",
   "metadata": {},
   "outputs": [
    {
     "data": {
      "text/plain": [
       "[<matplotlib.lines.Line2D at 0x7f3aeec1ca30>]"
      ]
     },
     "execution_count": 18,
     "metadata": {},
     "output_type": "execute_result"
    },
    {
     "data": {
      "image/png": "[encoded data removed]",
      "text/plain": [
       "<Figure size 432x288 with 1 Axes>"
      ]
     },
     "metadata": {},
     "output_type": "display_data"
    }
   ],
   "source": [
    "plt.plot(tps, p)"
   ]
  },
  {
   "cell_type": "code",
   "execution_count": 19,
   "id": "59d48704",
   "metadata": {},
   "outputs": [
    {
     "data": {
      "image/png": "[encoded data removed]",
      "text/plain": [
       "<Figure size 432x288 with 1 Axes>"
      ]
     },
     "metadata": {},
     "output_type": "display_data"
    }
   ],
   "source": [
    "fig = plt.figure()\n",
    "ax = plt.axes()"
   ]
  },
  {
   "cell_type": "code",
   "execution_count": 20,
   "id": "d442a865",
   "metadata": {},
   "outputs": [
    {
     "data": {
      "text/plain": [
       "[<matplotlib.lines.Line2D at 0x7f3aeeaca3b0>]"
      ]
     },
     "execution_count": 20,
     "metadata": {},
     "output_type": "execute_result"
    },
    {
     "data": {
      "image/png": "[encoded data removed]",
      "text/plain": [
       "<Figure size 432x288 with 1 Axes>"
      ]
     },
     "metadata": {},
     "output_type": "display_data"
    }
   ],
   "source": [
    "plt.plot(IntPu.tau/pm.fs2au/1000., IntPu.inter)"
   ]
  },
  {
   "cell_type": "code",
   "execution_count": null,
   "id": "f52f788c",
   "metadata": {},
   "outputs": [],
   "source": []
  },
  {
   "cell_type": "code",
   "execution_count": null,
   "id": "bfdf17a5",
   "metadata": {},
   "outputs": [],
   "source": []
  },
  {
   "cell_type": "code",
   "execution_count": null,
   "id": "e19ff5e8",
   "metadata": {},
   "outputs": [],
   "source": []
  }
 ],
 "metadata": {
  "kernelspec": {
   "display_name": "Python 3 (ipykernel)",
   "language": "python",
   "name": "python3"
  },
  "language_info": {
   "codemirror_mode": {
    "name": "ipython",
    "version": 3
   },
   "file_extension": ".py",
   "mimetype": "text/x-python",
   "name": "python",
   "nbconvert_exporter": "python",
   "pygments_lexer": "ipython3",
   "version": "3.10.12"
  }
 },
 "nbformat": 4,
 "nbformat_minor": 5
}
